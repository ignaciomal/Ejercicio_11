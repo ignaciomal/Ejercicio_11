{
 "cells": [
  {
   "cell_type": "code",
   "execution_count": 1,
   "id": "b2141f07-aebb-4034-9489-8b7bd1008811",
   "metadata": {},
   "outputs": [],
   "source": [
    "import math"
   ]
  },
  {
   "cell_type": "markdown",
   "id": "1430ea58-bcbe-42cb-aa7c-a2b9b914fa86",
   "metadata": {},
   "source": [
    "# 11. Parque vehicular.\n",
    "La Ciudad de México tiene placas de automóviles con tres números seguidos\n",
    "por tres letras, es decir, son placas del tipo 999-AAA. Sin embargo, no pueden empezar con 0\n",
    "(cero) ni se utilizan las letras I, O, Q y Ñ.\n"
   ]
  },
  {
   "cell_type": "markdown",
   "id": "457e8a5c-ea12-44ba-83a0-6189b28e7fa2",
   "metadata": {},
   "source": [
    "### a) ¿Cuántas placas diferentes son posibles?\n",
    "Ya que el primer número debe estar en un rango entre 1 y 9, usaremos la formula de permutación\n",
    "para obtener los posibles conjuntos de los otros dos espacios:\n",
    "\n",
    "$$\n",
    "\\begin{align}\n",
    "    _nP_r &= \\dfrac{n!}{(n - r)!}\\\\\n",
    "    _9P_2 &= \\dfrac{9!}{(9 - 2)!}\\\\\n",
    "    _9P_2 &= 72\n",
    "\\end{align}\n",
    "$$\n",
    "El resultado lo vamos a multiplicar por 9, que es la candidad de numeros disponibles para el primer espacio, por lo tanto, la forma es: \n",
    "$$\n",
    "\\begin{align}\n",
    "   72 \\cdot 9 = 648.\n",
    "\\end{align}\n",
    "$$  \n",
    "Para obtener el conjunto de letras, nuevamente usaremos la formula de permutación cambiando los datos:\n",
    "$$\n",
    "\\begin{align}\n",
    "    _nP_r &= \\dfrac{n!}{(n - r)!}\\\\\n",
    "    _23P_3 &= \\dfrac{23!}{(23 - 3)!}\\\\\n",
    "    _23P_3 &= 10624\n",
    "\\end{align}\n",
    "$$\n",
    "Multiplicamos las catidades de los numeros y las letras:\n",
    "$$\n",
    "\\begin{align}\n",
    "   648 \\cdot 10624 = 6,885,648.\n",
    "\\end{align}\n",
    "$$\n",
    "Las posibles placas diferente son: ***6,885,648***"
   ]
  },
  {
   "cell_type": "code",
   "execution_count": 4,
   "id": "fa7a4d53-05a4-448f-aa36-939888aaf421",
   "metadata": {},
   "outputs": [
    {
     "name": "stdout",
     "output_type": "stream",
     "text": [
      "La cantidad de placas diferentes es: 6885648\n"
     ]
    }
   ],
   "source": [
    "n1, r1 = 9, 2\n",
    "conj_de_2_esp_num = math.perm(n1, r1)\n",
    "conj_de_num = conj_de_2_esp_num * 9\n",
    "n2, r2 = 23, 3\n",
    "conj_de_letras = math.perm(n2, r2)\n",
    "placas = conj_de_num * conj_de_letras\n",
    "print(f'La cantidad de placas diferentes es: {placas}')"
   ]
  }
 ],
 "metadata": {
  "kernelspec": {
   "display_name": "Python 3 (ipykernel)",
   "language": "python",
   "name": "python3"
  },
  "language_info": {
   "codemirror_mode": {
    "name": "ipython",
    "version": 3
   },
   "file_extension": ".py",
   "mimetype": "text/x-python",
   "name": "python",
   "nbconvert_exporter": "python",
   "pygments_lexer": "ipython3",
   "version": "3.12.4"
  }
 },
 "nbformat": 4,
 "nbformat_minor": 5
}
