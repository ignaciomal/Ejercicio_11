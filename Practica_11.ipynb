{
 "cells": [
  {
   "cell_type": "code",
   "execution_count": 1,
   "id": "b2141f07-aebb-4034-9489-8b7bd1008811",
   "metadata": {},
   "outputs": [],
   "source": [
    "import math"
   ]
  },
  {
   "cell_type": "markdown",
   "id": "1430ea58-bcbe-42cb-aa7c-a2b9b914fa86",
   "metadata": {},
   "source": [
    "# 11. Parque vehicular.\n",
    "La Ciudad de México tiene placas de automóviles con tres números seguidos\n",
    "por tres letras, es decir, son placas del tipo 999-AAA. Sin embargo, no pueden empezar con 0\n",
    "(cero) ni se utilizan las letras I, O, Q y Ñ.\n"
   ]
  },
  {
   "cell_type": "markdown",
   "id": "457e8a5c-ea12-44ba-83a0-6189b28e7fa2",
   "metadata": {},
   "source": [
    "### a) ¿Cuántas placas diferentes son posibles?\n",
    "Ya que el primer número debe estar en un rango entre 1 y 9, usaremos la fórmula de permutación\n",
    "para obtener los posibles conjuntos de los otros dos espacios:\n",
    "\n",
    "$$\n",
    "\\begin{align}\n",
    "    _nP_r &= \\dfrac{n!}{(n - r)!}\\\\\n",
    "    _9P_2 &= \\dfrac{9!}{(9 - 2)!}\\\\\n",
    "    _9P_2 &= 72\n",
    "\\end{align}\n",
    "$$\n",
    "El resultado lo vamos a multiplicar por 9, que es la cantidad de números disponibles para el primer espacio, por lo tanto, la forma es:\n",
    "$$\n",
    "\\begin{align}\n",
    "   72 \\cdot 9 = 648.\n",
    "\\end{align}\n",
    "$$  \n",
    "Para obtener el conjunto de letras, nuevamente usaremos la fórmula de permutación cambiando los datos:\n",
    "$$\n",
    "\\begin{align}\n",
    "    _nP_r &= \\dfrac{n!}{(n - r)!}\\\\\n",
    "    _23P_3 &= \\dfrac{23!}{(23 - 3)!}\\\\\n",
    "    _23P_3 &= 10624\n",
    "\\end{align}\n",
    "$$\n",
    "Multiplicamos las cantidades de los números y las letras:\n",
    "$$\n",
    "\\begin{align}\n",
    "   648 \\cdot 10624 = 6,885,648.\n",
    "\\end{align}\n",
    "$$\n",
    "Las posibles placas diferente son: ***6,885,648***"
   ]
  },
  {
   "cell_type": "code",
   "execution_count": 6,
   "id": "fa7a4d53-05a4-448f-aa36-939888aaf421",
   "metadata": {},
   "outputs": [
    {
     "name": "stdout",
     "output_type": "stream",
     "text": [
      "La cantidad de placas diferentes es: 6885648\n"
     ]
    }
   ],
   "source": [
    "n1, r1 = 9, 2\n",
    "conj_de_2_esp_num = math.perm(n1, r1)\n",
    "conj_de_num = conj_de_2_esp_num * 9\n",
    "n2, r2 = 23, 3\n",
    "conj_de_letras = math.perm(n2, r2)\n",
    "placas = conj_de_num * conj_de_letras\n",
    "print(f'La cantidad de placas diferentes es: {placas}')"
   ]
  },
  {
   "cell_type": "markdown",
   "id": "b9093675-4b73-43a0-8f75-16e1be42f310",
   "metadata": {},
   "source": [
    "### b) ¿Cuántas placas diferentes terminan en vocal?\n",
    "Como solicita que terminen en vocal, se debe sacar el conjunto de letras de 2 espacios, usando la fórmula de permutación y multiplicar por 5 (cantidad de vocales) para obtener el conjunto posible de letras, seguidamente multiplicar por el conjunto de números:\n",
    "$$\n",
    "\\begin{align}\n",
    "    _nP_r  &= \\dfrac{n!}{(n - r)!}\\\\\n",
    "    _23P_2 &= \\dfrac{23!}{(23 - 2)!}\\\\\n",
    "    _23P_2 &= 506\n",
    "\\end{align}\n",
    "$$\n",
    "Entonces la cantidad de placas que terminan en vocal son: ***983,664***"
   ]
  },
  {
   "cell_type": "code",
   "execution_count": 8,
   "id": "aab6026d-ddec-4520-8e64-a108be214045",
   "metadata": {},
   "outputs": [
    {
     "name": "stdout",
     "output_type": "stream",
     "text": [
      "983664\n"
     ]
    }
   ],
   "source": [
    "n, r = 23, 2\n",
    "conj_de_2_esp_ltr = math.perm(n, r)\n",
    "placas_letra = conj_de_2_esp_ltr * 3\n",
    "placas_vocal = placas_letra * 648\n",
    "print(placas_vocal)"
   ]
  },
  {
   "cell_type": "markdown",
   "id": "9d0080dc-6018-49f7-bffd-b1ee1d8d556e",
   "metadata": {},
   "source": [
    "### c) ¿Cuál es la probabilidad de que una placa, elegida al azar, sea impar?\n",
    "En el rango de 1 a 9 hay 5 números impares, si un número es impar, toda la placa es impar entonces tenemos que hay 9 números posibles en el primer espacio, 10 en el segundo y 5 en el tercero, multiplicamos estos datos:\n",
    "$$\n",
    "\\begin{align}\n",
    "   9 \\cdot 10 \\cdot 5 = 450.\n",
    "\\end{align}\n",
    "$$  \n",
    "Nos da como resultado ***450***, esto lo dividimos entre el conjunto posible de letras del inciso a) ***648***, dando que la probabilidad es de: ***0.7 o 70%*** "
   ]
  },
  {
   "cell_type": "code",
   "execution_count": null,
   "id": "bfef3ceb-14aa-4eb4-98ae-d2ddb69f819a",
   "metadata": {},
   "outputs": [],
   "source": []
  }
 ],
 "metadata": {
  "kernelspec": {
   "display_name": "Python 3 (ipykernel)",
   "language": "python",
   "name": "python3"
  },
  "language_info": {
   "codemirror_mode": {
    "name": "ipython",
    "version": 3
   },
   "file_extension": ".py",
   "mimetype": "text/x-python",
   "name": "python",
   "nbconvert_exporter": "python",
   "pygments_lexer": "ipython3",
   "version": "3.12.4"
  }
 },
 "nbformat": 4,
 "nbformat_minor": 5
}
